{
 "cells": [
  {
   "cell_type": "code",
   "execution_count": 1,
   "id": "287c0ffd-2843-4c05-a4b9-8ddb08e19fc4",
   "metadata": {},
   "outputs": [],
   "source": [
    "import pandas as pd"
   ]
  },
  {
   "cell_type": "code",
   "execution_count": 2,
   "id": "dc50908b-c196-4ec1-9b42-dee330234145",
   "metadata": {},
   "outputs": [
    {
     "data": {
      "text/plain": [
       "'2.2.2'"
      ]
     },
     "execution_count": 2,
     "metadata": {},
     "output_type": "execute_result"
    }
   ],
   "source": [
    "pd.__version__"
   ]
  },
  {
   "cell_type": "code",
   "execution_count": 3,
   "id": "9c9cf256-f3b0-4dc3-b3ba-db61b41aabbb",
   "metadata": {},
   "outputs": [],
   "source": [
    "df = pd.read_csv(\"car_fuel_efficiency.csv\")"
   ]
  },
  {
   "cell_type": "code",
   "execution_count": 4,
   "id": "0d745649-b3ce-4cc7-b9f1-6bc4dcecbd6a",
   "metadata": {},
   "outputs": [
    {
     "name": "stdout",
     "output_type": "stream",
     "text": [
      "   engine_displacement  num_cylinders  horsepower  vehicle_weight  \\\n",
      "0                  170            3.0       159.0     3413.433759   \n",
      "1                  130            5.0        97.0     3149.664934   \n",
      "2                  170            NaN        78.0     3079.038997   \n",
      "3                  220            4.0         NaN     2542.392402   \n",
      "4                  210            1.0       140.0     3460.870990   \n",
      "\n",
      "   acceleration  model_year  origin fuel_type         drivetrain  num_doors  \\\n",
      "0          17.7        2003  Europe  Gasoline    All-wheel drive        0.0   \n",
      "1          17.8        2007     USA  Gasoline  Front-wheel drive        0.0   \n",
      "2          15.1        2018  Europe  Gasoline  Front-wheel drive        0.0   \n",
      "3          20.2        2009     USA    Diesel    All-wheel drive        2.0   \n",
      "4          14.4        2009  Europe  Gasoline    All-wheel drive        2.0   \n",
      "\n",
      "   fuel_efficiency_mpg  \n",
      "0            13.231729  \n",
      "1            13.688217  \n",
      "2            14.246341  \n",
      "3            16.912736  \n",
      "4            12.488369  \n",
      "(9704, 11)\n"
     ]
    }
   ],
   "source": [
    "print(df.head())\n",
    "print(df.shape)"
   ]
  },
  {
   "cell_type": "code",
   "execution_count": 5,
   "id": "d129eede-818a-4796-bd5d-b039b96b6c4f",
   "metadata": {},
   "outputs": [
    {
     "name": "stdout",
     "output_type": "stream",
     "text": [
      "      engine_displacement  num_cylinders  horsepower  vehicle_weight  \\\n",
      "9699                  140            5.0       164.0     2981.107371   \n",
      "9700                  180            NaN       154.0     2439.525729   \n",
      "9701                  220            2.0       138.0     2583.471318   \n",
      "9702                  230            4.0       177.0     2905.527390   \n",
      "9703                  270            3.0       140.0     2908.043477   \n",
      "\n",
      "      acceleration  model_year  origin fuel_type         drivetrain  \\\n",
      "9699          17.3        2013  Europe    Diesel  Front-wheel drive   \n",
      "9700          15.0        2004     USA  Gasoline    All-wheel drive   \n",
      "9701          15.1        2008     USA    Diesel    All-wheel drive   \n",
      "9702          19.4        2011     USA    Diesel  Front-wheel drive   \n",
      "9703          14.7        2005    Asia    Diesel    All-wheel drive   \n",
      "\n",
      "      num_doors  fuel_efficiency_mpg  \n",
      "9699        NaN            15.101802  \n",
      "9700        0.0            17.962326  \n",
      "9701       -1.0            17.186587  \n",
      "9702        1.0            15.331551  \n",
      "9703       -1.0            14.884467  \n"
     ]
    }
   ],
   "source": [
    "print(df.tail())"
   ]
  },
  {
   "cell_type": "code",
   "execution_count": 6,
   "id": "04bee303-df83-45fa-b43f-50634b3cdeca",
   "metadata": {},
   "outputs": [
    {
     "name": "stdout",
     "output_type": "stream",
     "text": [
      "9704\n"
     ]
    }
   ],
   "source": [
    "num_records = df.shape[0]\n",
    "print(num_records)"
   ]
  },
  {
   "cell_type": "code",
   "execution_count": 7,
   "id": "4fb6363c-496d-4c19-a1c2-f75f550d0476",
   "metadata": {},
   "outputs": [
    {
     "name": "stdout",
     "output_type": "stream",
     "text": [
      "['Gasoline' 'Diesel']\n",
      "2\n"
     ]
    }
   ],
   "source": [
    "fuel_types = df['fuel_type'].unique()\n",
    "print(fuel_types)\n",
    "\n",
    "print(len(fuel_types))\n"
   ]
  },
  {
   "cell_type": "code",
   "execution_count": 8,
   "id": "8ae953df-2c6d-408b-ac99-ac9b98bb5ac4",
   "metadata": {},
   "outputs": [
    {
     "name": "stdout",
     "output_type": "stream",
     "text": [
      "engine_displacement      0\n",
      "num_cylinders          482\n",
      "horsepower             708\n",
      "vehicle_weight           0\n",
      "acceleration           930\n",
      "model_year               0\n",
      "origin                   0\n",
      "fuel_type                0\n",
      "drivetrain               0\n",
      "num_doors              502\n",
      "fuel_efficiency_mpg      0\n",
      "dtype: int64\n"
     ]
    }
   ],
   "source": [
    "print(df.isnull().sum())"
   ]
  },
  {
   "cell_type": "code",
   "execution_count": 9,
   "id": "d2d4baa3-7677-403d-8a41-8c62c155aaef",
   "metadata": {},
   "outputs": [
    {
     "name": "stdout",
     "output_type": "stream",
     "text": [
      "23.759122836520497\n"
     ]
    }
   ],
   "source": [
    "asia_cars = df[df['origin'] == 'Asia']\n",
    "\n",
    "# Maximum fuel efficiency\n",
    "max_efficiency = asia_cars['fuel_efficiency_mpg'].max()\n",
    "print(max_efficiency)\n"
   ]
  },
  {
   "cell_type": "code",
   "execution_count": 10,
   "id": "46a7ac0f-3b06-4780-b5c9-31956c02af6f",
   "metadata": {},
   "outputs": [
    {
     "name": "stdout",
     "output_type": "stream",
     "text": [
      "Median of horsepower coloumn: 149.0\n"
     ]
    }
   ],
   "source": [
    "median_of_horsepower = df['horsepower'].median()\n",
    "print(\"Median of horsepower coloumn:\", median_of_horsepower)\n"
   ]
  },
  {
   "cell_type": "code",
   "execution_count": 11,
   "id": "fdd28caa-ae82-49ff-ae14-a5ab05cc04af",
   "metadata": {},
   "outputs": [
    {
     "name": "stdout",
     "output_type": "stream",
     "text": [
      "Most frequent value: 152.0\n"
     ]
    }
   ],
   "source": [
    "mode_hp = df['horsepower'].mode()[0]\n",
    "print(\"Most frequent value:\", mode_hp)"
   ]
  },
  {
   "cell_type": "code",
   "execution_count": 12,
   "id": "974aa8fc-b7e9-4760-bd51-0e35e00fc243",
   "metadata": {},
   "outputs": [],
   "source": [
    "df['horsepower'] = df['horsepower'].fillna(mode_hp)"
   ]
  },
  {
   "cell_type": "code",
   "execution_count": 13,
   "id": "3f51f444-9136-471b-b8b9-59f6dbb511dd",
   "metadata": {},
   "outputs": [
    {
     "name": "stdout",
     "output_type": "stream",
     "text": [
      "Median after: 152.0\n"
     ]
    }
   ],
   "source": [
    "median_after = df['horsepower'].median()\n",
    "print(\"Median after:\", median_after)"
   ]
  },
  {
   "cell_type": "code",
   "execution_count": 14,
   "id": "d05fabc6-1522-49d2-b0a4-77542a027519",
   "metadata": {},
   "outputs": [],
   "source": [
    "import numpy as np\n",
    "asia_cars = df[df['origin'] == 'Asia']\n",
    "X = asia_cars[['vehicle_weight', 'model_year']].head(7).to_numpy()\n",
    "y = np.array([1100, 1300, 800, 900, 1000, 1100, 1200])"
   ]
  },
  {
   "cell_type": "code",
   "execution_count": 15,
   "id": "4868b2c0-2f01-4a84-8a77-6b27a4adb357",
   "metadata": {},
   "outputs": [],
   "source": [
    "XTX = X.T @ X\n",
    "XTX_inv = np.linalg.inv(XTX)"
   ]
  },
  {
   "cell_type": "code",
   "execution_count": 16,
   "id": "8e71c715-de9e-4081-9563-be606f3ffc08",
   "metadata": {},
   "outputs": [
    {
     "name": "stdout",
     "output_type": "stream",
     "text": [
      "w: [0.01386421 0.5049067 ]\n"
     ]
    }
   ],
   "source": [
    "w = XTX_inv @ X.T @ y\n",
    "print(\"w:\", w)"
   ]
  },
  {
   "cell_type": "code",
   "execution_count": 17,
   "id": "a647241a-083c-4512-9382-71261547f7f7",
   "metadata": {},
   "outputs": [
    {
     "name": "stdout",
     "output_type": "stream",
     "text": [
      "Sum of elements: 0.5187709081074007\n"
     ]
    }
   ],
   "source": [
    "sum_w = np.sum(w)\n",
    "print(\"Sum of elements:\", sum_w)"
   ]
  },
  {
   "cell_type": "code",
   "execution_count": null,
   "id": "2e748345-f96e-4cdf-8488-7bb01efa3b9d",
   "metadata": {},
   "outputs": [],
   "source": []
  }
 ],
 "metadata": {
  "kernelspec": {
   "display_name": "Python [conda env:base] *",
   "language": "python",
   "name": "conda-base-py"
  },
  "language_info": {
   "codemirror_mode": {
    "name": "ipython",
    "version": 3
   },
   "file_extension": ".py",
   "mimetype": "text/x-python",
   "name": "python",
   "nbconvert_exporter": "python",
   "pygments_lexer": "ipython3",
   "version": "3.12.7"
  }
 },
 "nbformat": 4,
 "nbformat_minor": 5
}
